{
  "nbformat": 4,
  "nbformat_minor": 0,
  "metadata": {
    "colab": {
      "provenance": []
    },
    "kernelspec": {
      "name": "python3",
      "display_name": "Python 3"
    },
    "language_info": {
      "name": "python"
    }
  },
  "cells": [
    {
      "cell_type": "code",
      "execution_count": null,
      "metadata": {
        "id": "lrB20tp_cfEm"
      },
      "outputs": [],
      "source": [
        "# cek ip untuk mengatasi download limit (restart session jika limit, ip akan berubah)\n",
        "!curl ipecho.net/plain"
      ]
    },
    {
      "cell_type": "markdown",
      "source": [
        "# **Lib**"
      ],
      "metadata": {
        "id": "tx3NhY8Sc_g9"
      }
    },
    {
      "cell_type": "code",
      "source": [
        "!pip install mutagen\n",
        "!pip install alive-progress"
      ],
      "metadata": {
        "id": "ulNaRvmYc92k"
      },
      "execution_count": null,
      "outputs": []
    },
    {
      "cell_type": "code",
      "source": [
        "import requests\n",
        "import os\n",
        "import re\n",
        "from pathlib import Path\n",
        "import time\n",
        "import subprocess\n",
        "import json\n",
        "import pandas as pd\n",
        "from concurrent.futures import ThreadPoolExecutor\n",
        "from mutagen.mp4 import MP4\n",
        "from tqdm.notebook import tqdm"
      ],
      "metadata": {
        "id": "SnCcYeYzdFpW"
      },
      "execution_count": null,
      "outputs": []
    },
    {
      "cell_type": "markdown",
      "source": [
        "# **Function Download File dari PixelDrain**"
      ],
      "metadata": {
        "id": "gq40TnMcdIo2"
      }
    },
    {
      "cell_type": "markdown",
      "source": [
        "> optional, bisa upload file langsung atau download dari file hosting lainnya\n",
        "\n"
      ],
      "metadata": {
        "id": "jweY6m7YdR4m"
      }
    },
    {
      "cell_type": "code",
      "source": [
        "def download_pxd(file_id, output_dir=\"\", retries=5, delay=5):\n",
        "    for attempt in range(retries):\n",
        "        try:\n",
        "            info_url = f\"https://pixeldrain.com/api/file/{file_id}/info\"\n",
        "            response = requests.get(info_url)\n",
        "\n",
        "            if response.status_code == 200:\n",
        "                file_info = response.json()\n",
        "                file_name = file_info['name']\n",
        "                file_path = f\"{output_dir}/{file_name}\"\n",
        "\n",
        "                file_url = f\"https://pixeldrain.com/api/file/{file_id}\"\n",
        "                file_response = requests.get(file_url, stream=True)\n",
        "                total_size = int(file_response.headers.get('content-length', 0))\n",
        "\n",
        "                if file_response.status_code == 200:\n",
        "                    with open(file_path, 'wb') as file, tqdm(\n",
        "                        desc=f\"donlot {file_name}\",\n",
        "                        total=total_size,\n",
        "                        unit='B',\n",
        "                        unit_scale=True,\n",
        "                        unit_divisor=1024,\n",
        "                    ) as progress_bar:\n",
        "                        for data in file_response.iter_content(1024):\n",
        "                            if not data:\n",
        "                                break\n",
        "                            file.write(data)\n",
        "                            progress_bar.update(len(data))\n",
        "                    # print(f\"Donlot berhasil : {file_name}\")\n",
        "                    return file_path\n",
        "                else:\n",
        "                    print(f\"Percobaan {attempt + 1}: gagal download {file_name}.\")\n",
        "            else:\n",
        "                print(f\"Percobaan {attempt + 1}: gagal dapat info {file_name}.\")\n",
        "\n",
        "        except Exception as e:\n",
        "            print(f\"Percobaan {attempt + 1}: Exception occurred: {e}\")\n",
        "\n",
        "        # tunggu sebentar\n",
        "        time.sleep(delay)\n",
        "\n",
        "    print(\"Failed to download the file after multiple attempts.\")\n",
        "    return \"failed\""
      ],
      "metadata": {
        "id": "JtfWBZ4odQxu"
      },
      "execution_count": null,
      "outputs": []
    },
    {
      "cell_type": "markdown",
      "source": [
        "# **Function Upload File**"
      ],
      "metadata": {
        "id": "PDZHQoXzflMM"
      }
    },
    {
      "cell_type": "markdown",
      "source": [
        "### Pixeldrain\n",
        "\n"
      ],
      "metadata": {
        "id": "8uFNnVA1fqtX"
      }
    },
    {
      "cell_type": "code",
      "source": [
        "apikey_pxd = '' #api key pixeldrain\n",
        "# Fungsi untuk mengunggah file ke PixelDrain menggunakan curl dengan PUT\n",
        "def upload_to_pixeldrain_with_curl(local_file_path):\n",
        "    upload_url = 'https://pixeldrain.com/api/file/'\n",
        "\n",
        "    # Perintah curl untuk mengunggah file\n",
        "    curl_command = [\n",
        "        'curl', '-T', local_file_path,\n",
        "        '-u', f':{apikey_pxd}',  # API Key untuk autentikasi\n",
        "        upload_url\n",
        "    ]\n",
        "\n",
        "    # Jalankan perintah curl\n",
        "    print(f'Upload {local_file_path} to Pixeldrain...')\n",
        "    result = subprocess.run(curl_command, capture_output=True, text=True)\n",
        "    if result.returncode == 0:\n",
        "        try:\n",
        "            response_data = json.loads(result.stdout)\n",
        "            if 'id' in response_data:\n",
        "                download_link = f\"https://pixeldrain.com/u/{response_data['id']}\"\n",
        "                print(f\"(Pixeldrain) {local_file_path}: {download_link}\")\n",
        "                return download_link\n",
        "            else:\n",
        "                print(\"Upload successful, but no download link found in response.\")\n",
        "                return None\n",
        "        except json.JSONDecodeError:\n",
        "            print(\"Upload successful, but failed to parse JSON response.\")\n",
        "            return None\n",
        "    else:\n",
        "        print(f\"Upload failed: {result.stderr}\")\n",
        "        return None"
      ],
      "metadata": {
        "id": "j_VHkSrdfpPA"
      },
      "execution_count": null,
      "outputs": []
    },
    {
      "cell_type": "markdown",
      "source": [
        "### KrakenFiles"
      ],
      "metadata": {
        "id": "GVaW982WglI2"
      }
    },
    {
      "cell_type": "code",
      "source": [
        "apikey_kfs = '' #api key krakenfiles\n",
        "# get server token\n",
        "def get_server_access_token():\n",
        "    response = requests.get('https://krakenfiles.com/api/server/available')\n",
        "    response.raise_for_status()\n",
        "    data = response.json()\n",
        "    return data\n",
        "    # return data['serverAccessToken']\n",
        "\n",
        "def upload_to_krakenfiles_with_curl(local_file_path):\n",
        "    server_access_token = get_server_access_token()\n",
        "    upload_url = server_access_token[\"data\"][\"url\"]\n",
        "\n",
        "    # curl\n",
        "    curl_command = [\n",
        "        'curl', '-X', 'POST', upload_url,\n",
        "        '-H', f'X-AUTH-TOKEN: {apikey_kfs}',\n",
        "        '-F', f'serverAccessToken={server_access_token[\"data\"][\"serverAccessToken\"]}',\n",
        "        '-F', f'file=@{local_file_path}'\n",
        "        # '-F', f'title={title}',\n",
        "        # '-F', f'folderId={folderId}'\n",
        "    ]\n",
        "\n",
        "    print(f'Upload {local_file_path} to Krakenfiles...')\n",
        "    result = subprocess.run(curl_command, capture_output=True, text=True)\n",
        "    if result.returncode == 0:\n",
        "        try:\n",
        "            response_data = json.loads(result.stdout)\n",
        "            if 'data' in response_data:\n",
        "                download_link = response_data['data']['url']\n",
        "                print(f\"(Krakenfiles) {local_file_path}: {download_link}\")\n",
        "                return download_link\n",
        "            else:\n",
        "                print(\"Upload successful, but no download link found in response.\")\n",
        "                return None\n",
        "        except json.JSONDecodeError:\n",
        "            print(\"Upload successful, but failed to parse JSON response.\")\n",
        "            return None\n",
        "    else:\n",
        "        print(f\"Upload failed: {result.stderr}\")\n",
        "        return None"
      ],
      "metadata": {
        "id": "M2Zqct_FgpIl"
      },
      "execution_count": null,
      "outputs": []
    },
    {
      "cell_type": "markdown",
      "source": [
        "### HexUpload"
      ],
      "metadata": {
        "id": "yvKsMkIXgyV5"
      }
    },
    {
      "cell_type": "code",
      "source": [
        "apikey_hex = '' #api key hexupload\n",
        "# get session dan url upload\n",
        "def get_hexupload_server_info():\n",
        "    response = requests.get(f'https://hexload.com/api/upload/server?key={apikey_hex}')\n",
        "    response.raise_for_status()\n",
        "    data = response.json()\n",
        "    return data['sess_id'], data['result']\n",
        "    # return data\n",
        "\n",
        "# uplot\n",
        "def upload_to_hexupload_with_curl(local_file_path):\n",
        "    sess_id, upload_url = get_hexupload_server_info()\n",
        "\n",
        "    # curl\n",
        "    curl_command = [\n",
        "        'curl', '-X', 'POST', upload_url,\n",
        "        '-F', f'sess_id={sess_id}',\n",
        "        '-F', f'file=@{local_file_path}'\n",
        "    ]\n",
        "\n",
        "    # Jalankan perintah curl\n",
        "    print(f\"Upload {local_file_path} to Hexfiles...\")\n",
        "    result = subprocess.run(curl_command, capture_output=True, text=True)\n",
        "    if result.returncode == 0:\n",
        "        try:\n",
        "            response_data = json.loads(result.stdout)\n",
        "            if response_data[0]['file_status'] == 'OK':\n",
        "                download_link = f\"https://hexload.com/{response_data[0]['file_code']}\"\n",
        "                print(f\"(Hexupload) {local_file_path}: {download_link}\")\n",
        "                return download_link\n",
        "            else:\n",
        "                print(\"Upload to Hexupload successful, but no download link found in response.\")\n",
        "                return None\n",
        "        except json.JSONDecodeError:\n",
        "            print(\"Upload to Hexupload successful, but failed to parse JSON response.\")\n",
        "            return None\n",
        "    else:\n",
        "        print(f\"Upload to Hexupload failed: {result.stderr}\")\n",
        "        return None"
      ],
      "metadata": {
        "id": "ZvOkReFUg1r4"
      },
      "execution_count": null,
      "outputs": []
    },
    {
      "cell_type": "markdown",
      "source": [
        "# Function Persiapan"
      ],
      "metadata": {
        "id": "Jl6GUiTRhQMt"
      }
    },
    {
      "cell_type": "code",
      "source": [
        "# get size\n",
        "def get_file_size(file_path):\n",
        "    size_bytes = os.path.getsize(file_path)\n",
        "    size_mb = size_bytes / (1024 * 1024)\n",
        "    return f\"{size_mb:.2f} MB\"\n",
        "\n",
        "# rename prefix\n",
        "def rename_file(local_filename):\n",
        "    new_filename = local_filename.replace(old_prefix, 'new-prefix') # ganti prefix file yang didownload\n",
        "    os.rename(local_filename, new_filename)\n",
        "    return new_filename\n",
        "\n",
        "# set metadata title\n",
        "def set_file_title(file_path, title):\n",
        "    video = MP4(file_path)\n",
        "    video[\"\\xa9nam\"] = title  # Mengatur meta title\n",
        "    video.save()\n",
        "\n",
        "# get file name dan resolusi\n",
        "def file_ingfo(local_file_path):\n",
        "    file_name = Path(local_file_path).name\n",
        "    match = re.search(r'(\\d{3,4}p)', file_name)\n",
        "    if match:\n",
        "        reso = match.group(1)\n",
        "        return reso\n",
        "    else:\n",
        "        kosong = \"\"\n",
        "        return kosong\n",
        "\n",
        "# Fungsi untuk donlot, rename dan edit meta title\n",
        "def download_and_prepare_file(file_ids):\n",
        "    # print(f\"Downloading {file_ids}...\")\n",
        "    file_path = download_pxd(file_ids,output_directory) # download dari pixeldrain\n",
        "    new_file_path = rename_file(file_path)\n",
        "    set_file_title(new_file_path, Path(new_file_path).name) # set meta title\n",
        "    return new_file_path\n",
        "\n",
        "def retry_upload(upload_function, local_file_path, delay=5):\n",
        "    link = upload_function(local_file_path)\n",
        "    while not link:\n",
        "        print(f\"Upload Ulang {local_file_path}...\")\n",
        "        time.sleep(delay)  # Delay sebelum mencoba lagi\n",
        "        link = upload_function(local_file_path)\n",
        "    return link\n",
        "\n",
        "# Fungsi upload\n",
        "def upload_file(local_file_path):\n",
        "    file_size = get_file_size(local_file_path)\n",
        "    reso = file_ingfo(local_file_path)\n",
        "\n",
        "    pixeldrain_link = retry_upload(upload_to_pixeldrain_with_curl, local_file_path)\n",
        "    krakenfiles_link = retry_upload(upload_to_krakenfiles_with_curl, local_file_path)\n",
        "    hexupload_link = retry_upload(upload_to_hexupload_with_curl, local_file_path)\n",
        "\n",
        "    return f'{Path(local_file_path).name}: [[{reso} ({file_size})], [Pixeldrain,{pixeldrain_link}],[KrakenFiles,{krakenfiles_link}],[HexUpload,{hexupload_link}]]'"
      ],
      "metadata": {
        "id": "Mc-5u18bhWYw"
      },
      "execution_count": null,
      "outputs": []
    },
    {
      "cell_type": "markdown",
      "source": [
        "# **Download**"
      ],
      "metadata": {
        "id": "L1yf5o7Okciv"
      }
    },
    {
      "cell_type": "code",
      "source": [
        "# Directory to save downloaded files\n",
        "output_directory = \"/content/Folder\"  #folder output\n",
        "os.makedirs(output_directory, exist_ok=True)\n",
        "\n",
        "# List of file IDs to download\n",
        "file_ids = [\"nHoSSsRR\", \"MHCYmQQD\", \"HEfXxdZe\"]\n",
        "\n",
        "old_prefix = \"Otakudesu.io\"  #PREFIX FILE DOWNLOAD SEBELUMNYA\n",
        "\n",
        "with ThreadPoolExecutor() as executor:\n",
        "    prepared_files = list(executor.map(download_and_prepare_file, file_ids))"
      ],
      "metadata": {
        "id": "NJ2d9nUgkgeu"
      },
      "execution_count": null,
      "outputs": []
    },
    {
      "cell_type": "markdown",
      "source": [
        "# **UPLOAD**"
      ],
      "metadata": {
        "id": "VYT7grf4k1ON"
      }
    },
    {
      "cell_type": "code",
      "source": [
        "with ThreadPoolExecutor() as executor:\n",
        "    download_links = list(executor.map(upload_file, prepared_files))"
      ],
      "metadata": {
        "id": "gZJYw5zkk6yz"
      },
      "execution_count": null,
      "outputs": []
    },
    {
      "cell_type": "markdown",
      "source": [
        "# **Link Download**"
      ],
      "metadata": {
        "id": "TguznUjfk9-m"
      }
    },
    {
      "cell_type": "code",
      "source": [
        "for item in download_links:\n",
        "    print(item)\n",
        "print()"
      ],
      "metadata": {
        "id": "4SLGZxa9lCIn"
      },
      "execution_count": null,
      "outputs": []
    }
  ]
}